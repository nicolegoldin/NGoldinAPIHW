{
 "cells": [
  {
   "cell_type": "code",
   "execution_count": 1,
   "metadata": {},
   "outputs": [],
   "source": [
    "import os\n",
    "import plaid\n",
    "import requests\n",
    "import datetime\n",
    "import json\n",
    "import pandas as pd\n",
    "from pandas.io.json import json_normalize\n",
    "%matplotlib inline"
   ]
  },
  {
   "cell_type": "code",
   "execution_count": 2,
   "metadata": {},
   "outputs": [],
   "source": [
    "def pretty_print_response(response):\n",
    "  print(json.dumps(response, indent=4, sort_keys=True))"
   ]
  },
  {
   "cell_type": "code",
   "execution_count": 3,
   "metadata": {},
   "outputs": [],
   "source": [
    "PLAID_CLIENT_ID = os.getenv('PLAID_CLIENT_ID')\n",
    "PLAID_SECRET = os.getenv('PLAID_SECRET')\n",
    "PLAID_PUBLIC_KEY = os.getenv('PLAID_PUBLIC_KEY')\n",
    "PLAID_ENV = os.getenv('PLAID_ENV', 'sandbox')\n",
    "PLAID_PRODUCTS = os.getenv('PLAID_PRODUCTS', 'transactions')"
   ]
  },
  {
   "cell_type": "markdown",
   "metadata": {},
   "source": [
    "# Plaid Access Token\n",
    "\n",
    "In this section, you will use the plaid-python api to generate the correct authentication tokens to access data in the free developer Sandbox. This mimics how you might connect to your own account or a customer account, but due to privacy issues, this homework will only require connecting to and analyzing the fake data from the developer sandbox that Plaid provides. \n",
    "\n",
    "Complete the following steps to generate an access token:\n",
    "1. Create a client to connect to plaid\n",
    "2. Use the client to generate a public token and request the following items: \n",
    "['transactions', 'income', 'assets']\n",
    "3. Exchange the public token for an access token\n",
    "4. Test the access token by requesting and printing the available test accounts"
   ]
  },
  {
   "cell_type": "markdown",
   "metadata": {},
   "source": [
    "### 1. Create a client to connect to plaid"
   ]
  },
  {
   "cell_type": "code",
   "execution_count": 4,
   "metadata": {},
   "outputs": [],
   "source": [
    "INSTITUTION_ID = \"ins_109508\""
   ]
  },
  {
   "cell_type": "code",
   "execution_count": 5,
   "metadata": {},
   "outputs": [],
   "source": [
    "client = plaid.Client(client_id=PLAID_CLIENT_ID, secret=PLAID_SECRET, public_key=PLAID_PUBLIC_KEY, environment='sandbox')"
   ]
  },
  {
   "cell_type": "markdown",
   "metadata": {},
   "source": [
    "### 2. Generate a public token"
   ]
  },
  {
   "cell_type": "code",
   "execution_count": 6,
   "metadata": {},
   "outputs": [],
   "source": [
    "# YOUR CODE HERE\n",
    "create_tkn_response = client.Sandbox.public_token.create(INSTITUTION_ID, ['transactions','income','assets'])"
   ]
  },
  {
   "cell_type": "markdown",
   "metadata": {},
   "source": [
    "### 3. Exchange the public token for an access token"
   ]
  },
  {
   "cell_type": "code",
   "execution_count": 7,
   "metadata": {},
   "outputs": [],
   "source": [
    "# YOUR CODE HERE\n",
    "exchange_response = client.Item.public_token.exchange(create_tkn_response['public_token'])\n",
    "myaccess_token = exchange_response['access_token']"
   ]
  },
  {
   "cell_type": "markdown",
   "metadata": {},
   "source": [
    "### 4. Fetch Accounts"
   ]
  },
  {
   "cell_type": "code",
   "execution_count": 22,
   "metadata": {},
   "outputs": [
    {
     "data": {
      "text/plain": [
       "{'accounts': [{'account_id': 'oQyXDzdVk4T35xNlgRLoIx1QdNaq7JfRqzkLq',\n",
       "   'balances': {'available': 100,\n",
       "    'current': 110,\n",
       "    'iso_currency_code': 'USD',\n",
       "    'limit': None,\n",
       "    'unofficial_currency_code': None},\n",
       "   'mask': '0000',\n",
       "   'name': 'Plaid Checking',\n",
       "   'official_name': 'Plaid Gold Standard 0% Interest Checking',\n",
       "   'subtype': 'checking',\n",
       "   'type': 'depository'},\n",
       "  {'account_id': 'gd7AXglVLKF9qWov7RGah76XomDMKEfg8w43p',\n",
       "   'balances': {'available': 200,\n",
       "    'current': 210,\n",
       "    'iso_currency_code': 'USD',\n",
       "    'limit': None,\n",
       "    'unofficial_currency_code': None},\n",
       "   'mask': '1111',\n",
       "   'name': 'Plaid Saving',\n",
       "   'official_name': 'Plaid Silver Standard 0.1% Interest Saving',\n",
       "   'subtype': 'savings',\n",
       "   'type': 'depository'},\n",
       "  {'account_id': '8AZwmryG8etXVgD41WZRsVWoJvQg3ltw3GKdb',\n",
       "   'balances': {'available': None,\n",
       "    'current': 1000,\n",
       "    'iso_currency_code': 'USD',\n",
       "    'limit': None,\n",
       "    'unofficial_currency_code': None},\n",
       "   'mask': '2222',\n",
       "   'name': 'Plaid CD',\n",
       "   'official_name': 'Plaid Bronze Standard 0.2% Interest CD',\n",
       "   'subtype': 'cd',\n",
       "   'type': 'depository'},\n",
       "  {'account_id': 'Eb3NKQl4gGCPgX6y1qJKhAezBq64MVsXx19DL',\n",
       "   'balances': {'available': None,\n",
       "    'current': 410,\n",
       "    'iso_currency_code': 'USD',\n",
       "    'limit': 2000,\n",
       "    'unofficial_currency_code': None},\n",
       "   'mask': '3333',\n",
       "   'name': 'Plaid Credit Card',\n",
       "   'official_name': 'Plaid Diamond 12.5% APR Interest Credit Card',\n",
       "   'subtype': 'credit card',\n",
       "   'type': 'credit'},\n",
       "  {'account_id': 'WVk8MxqGevcLzPpRV1JGFj5qA16JQDClZDwLm',\n",
       "   'balances': {'available': 43200,\n",
       "    'current': 43200,\n",
       "    'iso_currency_code': 'USD',\n",
       "    'limit': None,\n",
       "    'unofficial_currency_code': None},\n",
       "   'mask': '4444',\n",
       "   'name': 'Plaid Money Market',\n",
       "   'official_name': 'Plaid Platinum Standard 1.85% Interest Money Market',\n",
       "   'subtype': 'money market',\n",
       "   'type': 'depository'},\n",
       "  {'account_id': 'A6KQVPy3v8idwGB6kzE1iP6pwyqxk4u1rd6G7',\n",
       "   'balances': {'available': None,\n",
       "    'current': 320.76,\n",
       "    'iso_currency_code': 'USD',\n",
       "    'limit': None,\n",
       "    'unofficial_currency_code': None},\n",
       "   'mask': '5555',\n",
       "   'name': 'Plaid IRA',\n",
       "   'official_name': None,\n",
       "   'subtype': 'ira',\n",
       "   'type': 'investment'},\n",
       "  {'account_id': 'GAd3zMKPEvt76gAZ4raNT6mparxnLVF1MQAEa',\n",
       "   'balances': {'available': None,\n",
       "    'current': 23631.9805,\n",
       "    'iso_currency_code': 'USD',\n",
       "    'limit': None,\n",
       "    'unofficial_currency_code': None},\n",
       "   'mask': '6666',\n",
       "   'name': 'Plaid 401k',\n",
       "   'official_name': None,\n",
       "   'subtype': '401k',\n",
       "   'type': 'investment'},\n",
       "  {'account_id': 'neApDrxV3ahk1Mpga5Wxhvynjp4zrBf6lnKx5',\n",
       "   'balances': {'available': None,\n",
       "    'current': 65262,\n",
       "    'iso_currency_code': 'USD',\n",
       "    'limit': None,\n",
       "    'unofficial_currency_code': None},\n",
       "   'mask': '7777',\n",
       "   'name': 'Plaid Student Loan',\n",
       "   'official_name': None,\n",
       "   'subtype': 'student',\n",
       "   'type': 'loan'}],\n",
       " 'item': {'available_products': ['auth',\n",
       "   'balance',\n",
       "   'credit_details',\n",
       "   'identity',\n",
       "   'investments',\n",
       "   'liabilities'],\n",
       "  'billed_products': ['assets', 'income', 'transactions'],\n",
       "  'consent_expiration_time': None,\n",
       "  'error': None,\n",
       "  'institution_id': 'ins_109508',\n",
       "  'item_id': 'Z6BgM4zVGXibyLBm6oE1iGbj5pbRMAFgEqd8a',\n",
       "  'webhook': ''},\n",
       " 'request_id': 'uaP1EXA2Pe73TKw'}"
      ]
     },
     "execution_count": 22,
     "metadata": {},
     "output_type": "execute_result"
    }
   ],
   "source": [
    "# YOUR CODE HERE\n",
    "client.Accounts.get(myaccess_token)"
   ]
  },
  {
   "cell_type": "markdown",
   "metadata": {},
   "source": [
    "---"
   ]
  },
  {
   "cell_type": "markdown",
   "metadata": {},
   "source": [
    "# Account Transactions with Plaid\n",
    "\n",
    "In this section, you will use the Plaid Python SDK to connect to the Developer Sandbox account and grab a list of transactions. You will need to complete the following steps:\n",
    "\n",
    "\n",
    "1. Use the access token to fetch the transactions for the last 90 days\n",
    "2. Print the categories for each transaction type\n",
    "3. Create a new DataFrame using the following fields from the JSON transaction data: `date, name, amount, category`. (For categories with more than one label, just use the first category label in the list)\n",
    "4. Convert the data types to the appropriate types (i.e. datetimeindex for the date and float for the amount)"
   ]
  },
  {
   "cell_type": "markdown",
   "metadata": {},
   "source": [
    "### 1. Fetch the Transactions for the last 90 days"
   ]
  },
  {
   "cell_type": "code",
   "execution_count": 135,
   "metadata": {},
   "outputs": [],
   "source": [
    "# YOUR CODE HERE\n",
    "start_date = '{:%Y-%m-%d}'.format(datetime.datetime.now() + datetime.timedelta(-365))\n",
    "end_date = '{:%Y-%m-%d}'.format(datetime.datetime.now())\n",
    "transactions_responses = client.Transactions.get(myaccess_token, start_date, end_date)"
   ]
  },
  {
   "cell_type": "code",
   "execution_count": null,
   "metadata": {},
   "outputs": [],
   "source": []
  },
  {
   "cell_type": "markdown",
   "metadata": {},
   "source": [
    "### 2. Print the categories for each transaction"
   ]
  },
  {
   "cell_type": "code",
   "execution_count": 136,
   "metadata": {},
   "outputs": [
    {
     "data": {
      "text/plain": [
       "['Travel',\n",
       " 'Food and Drink',\n",
       " 'Payment',\n",
       " 'Food and Drink',\n",
       " 'Shops',\n",
       " 'Payment',\n",
       " 'Travel',\n",
       " 'Transfer',\n",
       " 'Transfer',\n",
       " 'Recreation',\n",
       " 'Travel',\n",
       " 'Food and Drink',\n",
       " 'Food and Drink',\n",
       " 'Food and Drink',\n",
       " 'Transfer',\n",
       " 'Travel',\n",
       " 'Travel',\n",
       " 'Food and Drink',\n",
       " 'Payment',\n",
       " 'Food and Drink',\n",
       " 'Shops',\n",
       " 'Payment',\n",
       " 'Travel',\n",
       " 'Transfer',\n",
       " 'Transfer',\n",
       " 'Recreation',\n",
       " 'Travel',\n",
       " 'Food and Drink',\n",
       " 'Food and Drink',\n",
       " 'Food and Drink',\n",
       " 'Transfer',\n",
       " 'Travel',\n",
       " 'Travel',\n",
       " 'Food and Drink',\n",
       " 'Payment',\n",
       " 'Food and Drink',\n",
       " 'Shops',\n",
       " 'Payment',\n",
       " 'Travel',\n",
       " 'Transfer',\n",
       " 'Transfer',\n",
       " 'Recreation',\n",
       " 'Travel',\n",
       " 'Food and Drink',\n",
       " 'Food and Drink',\n",
       " 'Food and Drink',\n",
       " 'Transfer',\n",
       " 'Travel',\n",
       " 'Travel',\n",
       " 'Food and Drink',\n",
       " 'Payment',\n",
       " 'Food and Drink',\n",
       " 'Shops',\n",
       " 'Payment',\n",
       " 'Travel',\n",
       " 'Transfer',\n",
       " 'Transfer',\n",
       " 'Recreation',\n",
       " 'Travel',\n",
       " 'Food and Drink',\n",
       " 'Food and Drink',\n",
       " 'Food and Drink',\n",
       " 'Transfer',\n",
       " 'Travel',\n",
       " 'Travel',\n",
       " 'Food and Drink',\n",
       " 'Payment',\n",
       " 'Food and Drink',\n",
       " 'Shops',\n",
       " 'Payment',\n",
       " 'Travel',\n",
       " 'Transfer',\n",
       " 'Transfer',\n",
       " 'Recreation',\n",
       " 'Travel',\n",
       " 'Food and Drink',\n",
       " 'Food and Drink',\n",
       " 'Food and Drink',\n",
       " 'Transfer',\n",
       " 'Travel',\n",
       " 'Travel',\n",
       " 'Food and Drink',\n",
       " 'Payment',\n",
       " 'Food and Drink',\n",
       " 'Shops',\n",
       " 'Payment',\n",
       " 'Travel',\n",
       " 'Transfer',\n",
       " 'Transfer',\n",
       " 'Recreation',\n",
       " 'Travel',\n",
       " 'Food and Drink',\n",
       " 'Food and Drink',\n",
       " 'Food and Drink',\n",
       " 'Transfer',\n",
       " 'Travel',\n",
       " 'Travel',\n",
       " 'Food and Drink',\n",
       " 'Food and Drink',\n",
       " 'Shops']"
      ]
     },
     "execution_count": 136,
     "metadata": {},
     "output_type": "execute_result"
    }
   ],
   "source": [
    "# YOUR CODE HERE\n",
    "\n",
    "categories = []\n",
    "            \n",
    "transactions = transactions_responses['transactions']\n",
    "\n",
    "for transaction in transactions:\n",
    "    category = transaction['category'][0]\n",
    "    categories.append(category)\n",
    "\n",
    "categories\n",
    "\n"
   ]
  },
  {
   "cell_type": "markdown",
   "metadata": {},
   "source": [
    "### 3. Create a new DataFrame using the following fields from the JSON transaction data: date, name, amount, category. \n",
    "\n",
    "(For categories with more than one label, just use the first category label in the list)"
   ]
  },
  {
   "cell_type": "code",
   "execution_count": 137,
   "metadata": {},
   "outputs": [
    {
     "data": {
      "text/html": [
       "<div>\n",
       "<style scoped>\n",
       "    .dataframe tbody tr th:only-of-type {\n",
       "        vertical-align: middle;\n",
       "    }\n",
       "\n",
       "    .dataframe tbody tr th {\n",
       "        vertical-align: top;\n",
       "    }\n",
       "\n",
       "    .dataframe thead th {\n",
       "        text-align: right;\n",
       "    }\n",
       "</style>\n",
       "<table border=\"1\" class=\"dataframe\">\n",
       "  <thead>\n",
       "    <tr style=\"text-align: right;\">\n",
       "      <th></th>\n",
       "      <th>dates</th>\n",
       "      <th>names</th>\n",
       "      <th>amounts</th>\n",
       "      <th>categories</th>\n",
       "    </tr>\n",
       "  </thead>\n",
       "  <tbody>\n",
       "    <tr>\n",
       "      <th>95</th>\n",
       "      <td>2019-08-04</td>\n",
       "      <td>United Airlines</td>\n",
       "      <td>500.00</td>\n",
       "      <td>Travel</td>\n",
       "    </tr>\n",
       "    <tr>\n",
       "      <th>96</th>\n",
       "      <td>2019-08-02</td>\n",
       "      <td>Uber</td>\n",
       "      <td>6.33</td>\n",
       "      <td>Travel</td>\n",
       "    </tr>\n",
       "    <tr>\n",
       "      <th>97</th>\n",
       "      <td>2019-07-30</td>\n",
       "      <td>Tectra Inc</td>\n",
       "      <td>500.00</td>\n",
       "      <td>Food and Drink</td>\n",
       "    </tr>\n",
       "    <tr>\n",
       "      <th>98</th>\n",
       "      <td>2019-07-29</td>\n",
       "      <td>KFC</td>\n",
       "      <td>500.00</td>\n",
       "      <td>Food and Drink</td>\n",
       "    </tr>\n",
       "    <tr>\n",
       "      <th>99</th>\n",
       "      <td>2019-07-29</td>\n",
       "      <td>Madison Bicycle Shop</td>\n",
       "      <td>500.00</td>\n",
       "      <td>Shops</td>\n",
       "    </tr>\n",
       "  </tbody>\n",
       "</table>\n",
       "</div>"
      ],
      "text/plain": [
       "         dates                 names  amounts      categories\n",
       "95  2019-08-04       United Airlines   500.00          Travel\n",
       "96  2019-08-02                  Uber     6.33          Travel\n",
       "97  2019-07-30            Tectra Inc   500.00  Food and Drink\n",
       "98  2019-07-29                   KFC   500.00  Food and Drink\n",
       "99  2019-07-29  Madison Bicycle Shop   500.00           Shops"
      ]
     },
     "execution_count": 137,
     "metadata": {},
     "output_type": "execute_result"
    }
   ],
   "source": [
    "# YOUR CODE HERE\n",
    "dates = []\n",
    "names = []\n",
    "amounts = []\n",
    "\n",
    "for transaction in transactions:\n",
    "    date = transaction['date']\n",
    "    dates.append(date)\n",
    "for transaction in transactions:\n",
    "    name = transaction['name']\n",
    "    names.append(name)  \n",
    "for transaction in transactions:\n",
    "    amount = transaction['amount']\n",
    "    amounts.append(amount)    \n",
    "\n",
    "transaction_df = pd.DataFrame(list(zip(dates, names, amounts, categories)), columns=['dates','names', 'amounts','categories'])\n",
    "\n",
    "transaction_df.tail()\n"
   ]
  },
  {
   "cell_type": "markdown",
   "metadata": {},
   "source": [
    "### 4. Convert the data types to the appropriate types \n",
    "\n",
    "(i.e. datetimeindex for the date and float for the amount)"
   ]
  },
  {
   "cell_type": "code",
   "execution_count": 138,
   "metadata": {},
   "outputs": [],
   "source": [
    "# YOUR CODE HERE\n",
    "transaction_df['dates']= pd.to_datetime(transaction_df['dates'])\n",
    "transaction_df['amounts']=transaction_df['amounts'].astype(float)"
   ]
  },
  {
   "cell_type": "markdown",
   "metadata": {},
   "source": [
    "---"
   ]
  },
  {
   "cell_type": "markdown",
   "metadata": {},
   "source": [
    "# Income Analysis with Plaid\n",
    "\n",
    "In this section, you will use the Plaid Sandbox to complete the following:\n",
    "1. Determine the previous year's gross income and print the results\n",
    "2. Determine the current monthly income and print the results\n",
    "3. Determine the projected yearly income and print the results"
   ]
  },
  {
   "cell_type": "code",
   "execution_count": 139,
   "metadata": {},
   "outputs": [
    {
     "data": {
      "text/plain": [
       "{'income': {'income_streams': [{'confidence': 0.99,\n",
       "    'days': 690,\n",
       "    'monthly_income': 500,\n",
       "    'name': 'UNITED AIRLINES'}],\n",
       "  'last_year_income': 6000,\n",
       "  'last_year_income_before_tax': 7285,\n",
       "  'max_number_of_overlapping_income_streams': 1,\n",
       "  'number_of_income_streams': 1,\n",
       "  'projected_yearly_income': 6085,\n",
       "  'projected_yearly_income_before_tax': 7389},\n",
       " 'request_id': 'RH4CEw76ZMW4w7J'}"
      ]
     },
     "execution_count": 139,
     "metadata": {},
     "output_type": "execute_result"
    }
   ],
   "source": [
    "# YOUR CODE HERE\n",
    "income_response = client.Income.get(myaccess_token)\n",
    "income_response"
   ]
  },
  {
   "cell_type": "code",
   "execution_count": 140,
   "metadata": {},
   "outputs": [],
   "source": [
    "gross_income = income_response['income']['last_year_income_before_tax']\n",
    "monthly_income = income_response['income']['income_streams'][0]['monthly_income']\n",
    "projected_yearly_income = monthly_income * 12"
   ]
  },
  {
   "cell_type": "code",
   "execution_count": 128,
   "metadata": {},
   "outputs": [
    {
     "data": {
      "text/plain": [
       "7285"
      ]
     },
     "execution_count": 128,
     "metadata": {},
     "output_type": "execute_result"
    }
   ],
   "source": [
    "gross_income"
   ]
  },
  {
   "cell_type": "code",
   "execution_count": 132,
   "metadata": {},
   "outputs": [
    {
     "data": {
      "text/plain": [
       "500"
      ]
     },
     "execution_count": 132,
     "metadata": {},
     "output_type": "execute_result"
    }
   ],
   "source": [
    "monthly_income"
   ]
  },
  {
   "cell_type": "code",
   "execution_count": 124,
   "metadata": {},
   "outputs": [
    {
     "data": {
      "text/plain": [
       "6000"
      ]
     },
     "execution_count": 124,
     "metadata": {},
     "output_type": "execute_result"
    }
   ],
   "source": [
    "projected_yearly_income"
   ]
  },
  {
   "cell_type": "markdown",
   "metadata": {},
   "source": [
    "---"
   ]
  },
  {
   "cell_type": "markdown",
   "metadata": {},
   "source": [
    "# Budget Analysis\n",
    "In this section, you will use the transactions DataFrame to analyze the customer's budget\n",
    "\n",
    "1. Calculate the total spending per category and print the results (Hint: groupby or count transactions per category)\n",
    "2. Generate a bar chart with the number of transactions for each category \n",
    "3. Calculate the expenses per month\n",
    "4. Plot the total expenses per month"
   ]
  },
  {
   "cell_type": "markdown",
   "metadata": {},
   "source": [
    "### Calculate the expenses per category"
   ]
  },
  {
   "cell_type": "code",
   "execution_count": 141,
   "metadata": {},
   "outputs": [
    {
     "data": {
      "text/html": [
       "<div>\n",
       "<style scoped>\n",
       "    .dataframe tbody tr th:only-of-type {\n",
       "        vertical-align: middle;\n",
       "    }\n",
       "\n",
       "    .dataframe tbody tr th {\n",
       "        vertical-align: top;\n",
       "    }\n",
       "\n",
       "    .dataframe thead th {\n",
       "        text-align: right;\n",
       "    }\n",
       "</style>\n",
       "<table border=\"1\" class=\"dataframe\">\n",
       "  <thead>\n",
       "    <tr style=\"text-align: right;\">\n",
       "      <th></th>\n",
       "      <th>Total by Category</th>\n",
       "      <th>Number of Occurences</th>\n",
       "    </tr>\n",
       "    <tr>\n",
       "      <th>categories</th>\n",
       "      <th></th>\n",
       "      <th></th>\n",
       "    </tr>\n",
       "  </thead>\n",
       "  <tbody>\n",
       "    <tr>\n",
       "      <th>Food and Drink</th>\n",
       "      <td>7634.38</td>\n",
       "      <td>32</td>\n",
       "    </tr>\n",
       "    <tr>\n",
       "      <th>Payment</th>\n",
       "      <td>12621.00</td>\n",
       "      <td>12</td>\n",
       "    </tr>\n",
       "    <tr>\n",
       "      <th>Recreation</th>\n",
       "      <td>471.00</td>\n",
       "      <td>6</td>\n",
       "    </tr>\n",
       "    <tr>\n",
       "      <th>Shops</th>\n",
       "      <td>3500.00</td>\n",
       "      <td>7</td>\n",
       "    </tr>\n",
       "    <tr>\n",
       "      <th>Transfer</th>\n",
       "      <td>41074.68</td>\n",
       "      <td>18</td>\n",
       "    </tr>\n",
       "    <tr>\n",
       "      <th>Travel</th>\n",
       "      <td>76.71</td>\n",
       "      <td>25</td>\n",
       "    </tr>\n",
       "  </tbody>\n",
       "</table>\n",
       "</div>"
      ],
      "text/plain": [
       "                Total by Category  Number of Occurences\n",
       "categories                                             \n",
       "Food and Drink            7634.38                    32\n",
       "Payment                  12621.00                    12\n",
       "Recreation                 471.00                     6\n",
       "Shops                     3500.00                     7\n",
       "Transfer                 41074.68                    18\n",
       "Travel                      76.71                    25"
      ]
     },
     "execution_count": 141,
     "metadata": {},
     "output_type": "execute_result"
    }
   ],
   "source": [
    "category_total_df = transaction_df.filter(['categories','amounts'])\n",
    "category_grouped = category_total_df.groupby(['categories']).sum()\n",
    "num_category_occur = transaction_df.filter(['categories','amounts']).groupby(['categories']).count()\n",
    "category_grouped['Number of Occurences'] = num_category_occur\n",
    "category_grouped.columns = ['Total by Category','Number of Occurences']\n",
    "category_grouped"
   ]
  },
  {
   "cell_type": "code",
   "execution_count": 142,
   "metadata": {},
   "outputs": [
    {
     "data": {
      "text/plain": [
       "<matplotlib.axes._subplots.AxesSubplot at 0x25a1d9be808>"
      ]
     },
     "execution_count": 142,
     "metadata": {},
     "output_type": "execute_result"
    },
    {
     "data": {
      "image/png": "[encoded data removed]",
      "text/plain": [
       "<Figure size 432x288 with 1 Axes>"
      ]
     },
     "metadata": {
      "needs_background": "light"
     },
     "output_type": "display_data"
    }
   ],
   "source": [
    "category_grouped['Number of Occurences'].plot.bar(title= \"Transaction Occurences by Category\")"
   ]
  },
  {
   "cell_type": "markdown",
   "metadata": {},
   "source": [
    "### Calculate the expenses per month"
   ]
  },
  {
   "cell_type": "code",
   "execution_count": 175,
   "metadata": {},
   "outputs": [
    {
     "ename": "SyntaxError",
     "evalue": "invalid syntax (<ipython-input-175-146a4394ee0c>, line 5)",
     "output_type": "error",
     "traceback": [
      "\u001b[1;36m  File \u001b[1;32m\"<ipython-input-175-146a4394ee0c>\"\u001b[1;36m, line \u001b[1;32m5\u001b[0m\n\u001b[1;33m    monthly_grouped = monthly_total_df.groupby(['dates'.index.-%m,'amounts']).sum()\u001b[0m\n\u001b[1;37m                                                              ^\u001b[0m\n\u001b[1;31mSyntaxError\u001b[0m\u001b[1;31m:\u001b[0m invalid syntax\n"
     ]
    }
   ],
   "source": [
    "# YOUR CODE HERE\n",
    "dates = pd.to_datetime(monthly_total_df['dates'])\n",
    "#monthly_total_df.groupby(['dates.%m']).value_col.sum()\n",
    "monthly_total_df = transaction_df.filter(['dates','amounts'])\n",
    "monthly_grouped = monthly_total_df.groupby(['dates'.index.-%m,'amounts']).sum()\n",
    "monthly_grouped"
   ]
  },
  {
   "cell_type": "code",
   "execution_count": null,
   "metadata": {},
   "outputs": [],
   "source": []
  }
 ],
 "metadata": {
  "kernel_info": {
   "name": "dev"
  },
  "kernelspec": {
   "display_name": "Python 3",
   "language": "python",
   "name": "python3"
  },
  "language_info": {
   "codemirror_mode": {
    "name": "ipython",
    "version": 3
   },
   "file_extension": ".py",
   "mimetype": "text/x-python",
   "name": "python",
   "nbconvert_exporter": "python",
   "pygments_lexer": "ipython3",
   "version": "3.7.4"
  },
  "nteract": {
   "version": "0.12.3"
  }
 },
 "nbformat": 4,
 "nbformat_minor": 4
}
