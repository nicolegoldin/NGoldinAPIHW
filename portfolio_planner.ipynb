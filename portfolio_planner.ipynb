{
 "cells": [
  {
   "cell_type": "code",
   "execution_count": 1,
   "metadata": {},
   "outputs": [],
   "source": [
    "import numpy as np\n",
    "import pandas as pd\n",
    "import os\n",
    "from datetime import datetime, timedelta\n",
    "import matplotlib.pyplot as plt\n",
    "from iexfinance.stocks import get_historical_data\n",
    "from iexfinance.refdata import get_symbols\n",
    "%matplotlib inline"
   ]
  },
  {
   "cell_type": "code",
   "execution_count": 2,
   "metadata": {},
   "outputs": [],
   "source": [
    "np.random.seed(42)"
   ]
  },
  {
   "cell_type": "markdown",
   "metadata": {},
   "source": [
    "# Portfolio Planner\n",
    "\n",
    "In this activity, you will use the iexfinance api to grab historical data for a 60/40 portfolio using `SPY` to represent the stock portion and `AGG` to represent the bonds."
   ]
  },
  {
   "cell_type": "code",
   "execution_count": 2,
   "metadata": {},
   "outputs": [],
   "source": [
    "IEX_KEY = os.getenv('IEX_KEY')"
   ]
  },
  {
   "cell_type": "code",
   "execution_count": null,
   "metadata": {},
   "outputs": [],
   "source": [
    "http://finance.yahoo.com/q?s=AAPL"
   ]
  },
  {
   "cell_type": "markdown",
   "metadata": {},
   "source": [
    "# Data Collection\n",
    "\n",
    "In this step, you will need to use the IEX api to fetch closing prices for the `SPY` and `AGG` tickers. Save the results as a pandas DataFrame"
   ]
  },
  {
   "cell_type": "code",
   "execution_count": 9,
   "metadata": {},
   "outputs": [],
   "source": [
    "list_of_tickers = [\"SPY\", \"AGG\"]\n",
    "start = datetime(2019, 1, 1)\n",
    "end = datetime(2020, 1, 1)\n",
    "# YOUR CODE HERE"
   ]
  },
  {
   "cell_type": "code",
   "execution_count": 7,
   "metadata": {},
   "outputs": [
    {
     "data": {
      "text/html": [
       "<div>\n",
       "<style scoped>\n",
       "    .dataframe tbody tr th:only-of-type {\n",
       "        vertical-align: middle;\n",
       "    }\n",
       "\n",
       "    .dataframe tbody tr th {\n",
       "        vertical-align: top;\n",
       "    }\n",
       "\n",
       "    .dataframe thead th {\n",
       "        text-align: right;\n",
       "    }\n",
       "</style>\n",
       "<table border=\"1\" class=\"dataframe\">\n",
       "  <thead>\n",
       "    <tr style=\"text-align: right;\">\n",
       "      <th></th>\n",
       "      <th>symbol</th>\n",
       "      <th>exchange</th>\n",
       "      <th>name</th>\n",
       "      <th>date</th>\n",
       "      <th>type</th>\n",
       "      <th>iexId</th>\n",
       "      <th>region</th>\n",
       "      <th>currency</th>\n",
       "      <th>isEnabled</th>\n",
       "    </tr>\n",
       "  </thead>\n",
       "  <tbody>\n",
       "    <tr>\n",
       "      <th>0</th>\n",
       "      <td>A</td>\n",
       "      <td>NYS</td>\n",
       "      <td>Agilent Technologies Inc.</td>\n",
       "      <td>2020-01-28</td>\n",
       "      <td>cs</td>\n",
       "      <td>IEX_46574843354B2D52</td>\n",
       "      <td>US</td>\n",
       "      <td>USD</td>\n",
       "      <td>True</td>\n",
       "    </tr>\n",
       "    <tr>\n",
       "      <th>1</th>\n",
       "      <td>AA</td>\n",
       "      <td>NYS</td>\n",
       "      <td>Alcoa Corp.</td>\n",
       "      <td>2020-01-28</td>\n",
       "      <td>cs</td>\n",
       "      <td>IEX_4238333734532D52</td>\n",
       "      <td>US</td>\n",
       "      <td>USD</td>\n",
       "      <td>True</td>\n",
       "    </tr>\n",
       "    <tr>\n",
       "      <th>2</th>\n",
       "      <td>AAAU</td>\n",
       "      <td>PSE</td>\n",
       "      <td>Perth Mint Physical Gold ETF</td>\n",
       "      <td>2020-01-28</td>\n",
       "      <td>et</td>\n",
       "      <td>IEX_474B433136332D52</td>\n",
       "      <td>US</td>\n",
       "      <td>USD</td>\n",
       "      <td>True</td>\n",
       "    </tr>\n",
       "    <tr>\n",
       "      <th>3</th>\n",
       "      <td>AACG</td>\n",
       "      <td>NAS</td>\n",
       "      <td>ATA Creativity Global Sponsored ADR</td>\n",
       "      <td>2020-01-28</td>\n",
       "      <td>ad</td>\n",
       "      <td>IEX_44595A4C53392D52</td>\n",
       "      <td>US</td>\n",
       "      <td>USD</td>\n",
       "      <td>True</td>\n",
       "    </tr>\n",
       "    <tr>\n",
       "      <th>4</th>\n",
       "      <td>AADR</td>\n",
       "      <td>PSE</td>\n",
       "      <td>AdvisorShares Dorsey Wright ADR ETF</td>\n",
       "      <td>2020-01-28</td>\n",
       "      <td>et</td>\n",
       "      <td>IEX_5253355435362D52</td>\n",
       "      <td>US</td>\n",
       "      <td>USD</td>\n",
       "      <td>True</td>\n",
       "    </tr>\n",
       "  </tbody>\n",
       "</table>\n",
       "</div>"
      ],
      "text/plain": [
       "  symbol exchange                                 name        date type  \\\n",
       "0      A      NYS            Agilent Technologies Inc.  2020-01-28   cs   \n",
       "1     AA      NYS                          Alcoa Corp.  2020-01-28   cs   \n",
       "2   AAAU      PSE         Perth Mint Physical Gold ETF  2020-01-28   et   \n",
       "3   AACG      NAS  ATA Creativity Global Sponsored ADR  2020-01-28   ad   \n",
       "4   AADR      PSE  AdvisorShares Dorsey Wright ADR ETF  2020-01-28   et   \n",
       "\n",
       "                  iexId region currency  isEnabled  \n",
       "0  IEX_46574843354B2D52     US      USD       True  \n",
       "1  IEX_4238333734532D52     US      USD       True  \n",
       "2  IEX_474B433136332D52     US      USD       True  \n",
       "3  IEX_44595A4C53392D52     US      USD       True  \n",
       "4  IEX_5253355435362D52     US      USD       True  "
      ]
     },
     "execution_count": 7,
     "metadata": {},
     "output_type": "execute_result"
    }
   ],
   "source": [
    "# tickers=pd.DataFrame(get_symbols(output_format='pandas', token = IEX_KEY))"
   ]
  },
  {
   "cell_type": "code",
   "execution_count": 17,
   "metadata": {},
   "outputs": [],
   "source": [
    "# spy_data = pd.DataFrame(get_historical_data(\"SPY\", start, end, close_only=True, token = IEX_KEY, infer_datetimeformat = True))"
   ]
  },
  {
   "cell_type": "code",
   "execution_count": 26,
   "metadata": {},
   "outputs": [
    {
     "data": {
      "text/plain": [
       "2019-01-02    250.18\n",
       "2019-01-03    244.21\n",
       "2019-01-04    252.39\n",
       "2019-01-07    254.38\n",
       "2019-01-08    256.77\n",
       "Name: close, dtype: float64"
      ]
     },
     "execution_count": 26,
     "metadata": {},
     "output_type": "execute_result"
    }
   ],
   "source": [
    "spy_data_transposed = spy_data.transpose()\n",
    "spy_data_transposed.columns = ['close','volume']\n",
    "spy_data_close = spy_data_transposed['close']\n",
    "spy_data_close.head()"
   ]
  },
  {
   "cell_type": "code",
   "execution_count": 27,
   "metadata": {},
   "outputs": [],
   "source": [
    "# agg_data = pd.DataFrame(get_historical_data(\"AGG\", start, end, close_only=True, token = IEX_KEY, infer_datetimeformat = True))"
   ]
  },
  {
   "cell_type": "code",
   "execution_count": 28,
   "metadata": {},
   "outputs": [
    {
     "data": {
      "text/plain": [
       "2019-01-02    106.57\n",
       "2019-01-03    107.01\n",
       "2019-01-04    106.69\n",
       "2019-01-07    106.51\n",
       "2019-01-08    106.43\n",
       "Name: close, dtype: float64"
      ]
     },
     "execution_count": 28,
     "metadata": {},
     "output_type": "execute_result"
    }
   ],
   "source": [
    "agg_data_transposed = agg_data.transpose()\n",
    "agg_data_transposed.columns = ['close','volume']\n",
    "agg_data_close = agg_data_transposed['close']\n",
    "agg_data_close.head()"
   ]
  },
  {
   "cell_type": "code",
   "execution_count": 33,
   "metadata": {},
   "outputs": [
    {
     "data": {
      "text/html": [
       "<div>\n",
       "<style scoped>\n",
       "    .dataframe tbody tr th:only-of-type {\n",
       "        vertical-align: middle;\n",
       "    }\n",
       "\n",
       "    .dataframe tbody tr th {\n",
       "        vertical-align: top;\n",
       "    }\n",
       "\n",
       "    .dataframe thead th {\n",
       "        text-align: right;\n",
       "    }\n",
       "</style>\n",
       "<table border=\"1\" class=\"dataframe\">\n",
       "  <thead>\n",
       "    <tr style=\"text-align: right;\">\n",
       "      <th></th>\n",
       "      <th>AGG Close</th>\n",
       "      <th>SPY Close</th>\n",
       "    </tr>\n",
       "  </thead>\n",
       "  <tbody>\n",
       "    <tr>\n",
       "      <th>2019-01-02</th>\n",
       "      <td>106.57</td>\n",
       "      <td>250.18</td>\n",
       "    </tr>\n",
       "    <tr>\n",
       "      <th>2019-01-03</th>\n",
       "      <td>107.01</td>\n",
       "      <td>244.21</td>\n",
       "    </tr>\n",
       "    <tr>\n",
       "      <th>2019-01-04</th>\n",
       "      <td>106.69</td>\n",
       "      <td>252.39</td>\n",
       "    </tr>\n",
       "    <tr>\n",
       "      <th>2019-01-07</th>\n",
       "      <td>106.51</td>\n",
       "      <td>254.38</td>\n",
       "    </tr>\n",
       "    <tr>\n",
       "      <th>2019-01-08</th>\n",
       "      <td>106.43</td>\n",
       "      <td>256.77</td>\n",
       "    </tr>\n",
       "  </tbody>\n",
       "</table>\n",
       "</div>"
      ],
      "text/plain": [
       "            AGG Close  SPY Close\n",
       "2019-01-02     106.57     250.18\n",
       "2019-01-03     107.01     244.21\n",
       "2019-01-04     106.69     252.39\n",
       "2019-01-07     106.51     254.38\n",
       "2019-01-08     106.43     256.77"
      ]
     },
     "execution_count": 33,
     "metadata": {},
     "output_type": "execute_result"
    }
   ],
   "source": [
    "agg_and_spy = pd.concat([agg_data_close,spy_data_close], axis = 'columns', join = 'inner')\n",
    "agg_and_spy.columns = ['AGG Close','SPY Close']\n",
    "agg_and_spy.head()"
   ]
  },
  {
   "cell_type": "markdown",
   "metadata": {},
   "source": [
    "# Monte Carlo Simulation\n",
    "\n",
    "In this step, you will run Monte Carlo Simulations for your portfolio to model portfolio performance at different retirement ages. \n",
    "\n",
    "Complete the following steps:\n",
    "1. Calculate the daily returns for the SPY and AGG closing prices.\n",
    "2. Calculate volatility for both the SPY and AGG closing prices.\n",
    "3. Find the last day's closing price for both stocks and save those as variables.\n",
    "4. Run a Monte Carlo Simulation of at least 500 iterations and generate at least 30 years of closing prices\n",
    "\n",
    "### HINTS:\n",
    "There are 252 trading days per year, so the number of records to generate for each Monte Carlo run will be 252 days * 30 years"
   ]
  },
  {
   "cell_type": "code",
   "execution_count": 59,
   "metadata": {},
   "outputs": [
    {
     "data": {
      "text/html": [
       "<div>\n",
       "<style scoped>\n",
       "    .dataframe tbody tr th:only-of-type {\n",
       "        vertical-align: middle;\n",
       "    }\n",
       "\n",
       "    .dataframe tbody tr th {\n",
       "        vertical-align: top;\n",
       "    }\n",
       "\n",
       "    .dataframe thead th {\n",
       "        text-align: right;\n",
       "    }\n",
       "</style>\n",
       "<table border=\"1\" class=\"dataframe\">\n",
       "  <thead>\n",
       "    <tr style=\"text-align: right;\">\n",
       "      <th></th>\n",
       "      <th>AGG Close</th>\n",
       "      <th>SPY Close</th>\n",
       "    </tr>\n",
       "  </thead>\n",
       "  <tbody>\n",
       "    <tr>\n",
       "      <th>2019-01-02</th>\n",
       "      <td>NaN</td>\n",
       "      <td>NaN</td>\n",
       "    </tr>\n",
       "    <tr>\n",
       "      <th>2019-01-03</th>\n",
       "      <td>0.004129</td>\n",
       "      <td>-0.023863</td>\n",
       "    </tr>\n",
       "    <tr>\n",
       "      <th>2019-01-04</th>\n",
       "      <td>-0.002990</td>\n",
       "      <td>0.033496</td>\n",
       "    </tr>\n",
       "    <tr>\n",
       "      <th>2019-01-07</th>\n",
       "      <td>-0.001687</td>\n",
       "      <td>0.007885</td>\n",
       "    </tr>\n",
       "    <tr>\n",
       "      <th>2019-01-08</th>\n",
       "      <td>-0.000751</td>\n",
       "      <td>0.009395</td>\n",
       "    </tr>\n",
       "  </tbody>\n",
       "</table>\n",
       "</div>"
      ],
      "text/plain": [
       "            AGG Close  SPY Close\n",
       "2019-01-02        NaN        NaN\n",
       "2019-01-03   0.004129  -0.023863\n",
       "2019-01-04  -0.002990   0.033496\n",
       "2019-01-07  -0.001687   0.007885\n",
       "2019-01-08  -0.000751   0.009395"
      ]
     },
     "execution_count": 59,
     "metadata": {},
     "output_type": "execute_result"
    }
   ],
   "source": [
    "# Calculate the daily roi for the stocks\n",
    "daily_returns = agg_and_spy.pct_change()\n",
    "# YOUR CODE HERE"
   ]
  },
  {
   "cell_type": "code",
   "execution_count": 65,
   "metadata": {},
   "outputs": [],
   "source": [
    "# find mean daily returns\n",
    "avg_return_agg = daily_returns.mean()['AGG Close']\n",
    "avg_return_spy = daily_returns.mean()['SPY Close']"
   ]
  },
  {
   "cell_type": "code",
   "execution_count": 35,
   "metadata": {},
   "outputs": [],
   "source": [
    "# Weight the Portfolio\n",
    "weights = [0.4, 0.6]\n",
    "portfolio_returns = daily_returns.dot(weights)"
   ]
  },
  {
   "cell_type": "code",
   "execution_count": 61,
   "metadata": {},
   "outputs": [
    {
     "name": "stdout",
     "output_type": "stream",
     "text": [
      "The volatility of your portfolio is 0.004568417946031576\n"
     ]
    }
   ],
   "source": [
    "# Calculate volatility\n",
    "print(f'The volatility of your portfolio is {portfolio_returns.std()}')\n",
    "vol_agg = daily_returns.std()['AGG Close']\n",
    "vol_spy = daily_returns.std()['SPY Close']\n",
    "# YOUR CODE HERE"
   ]
  },
  {
   "cell_type": "code",
   "execution_count": 67,
   "metadata": {},
   "outputs": [],
   "source": [
    "# Save the last day's closing price\n",
    "agg_last_price = agg_and_spy['AGG Close'][-1]\n",
    "spy_last_price = agg_and_spy['SPY Close'][-1]\n",
    "# YOUR CODE HERE"
   ]
  },
  {
   "cell_type": "code",
   "execution_count": 93,
   "metadata": {},
   "outputs": [
    {
     "data": {
      "text/plain": [
       "7560"
      ]
     },
     "execution_count": 93,
     "metadata": {},
     "output_type": "execute_result"
    }
   ],
   "source": [
    "252*30"
   ]
  },
  {
   "cell_type": "code",
   "execution_count": 94,
   "metadata": {},
   "outputs": [],
   "source": [
    "# Setup the Monte Carlo Parameters\n",
    "number_simulations = 500\n",
    "number_records = 7560\n",
    "monte_carlo = pd.DataFrame()\n",
    "\n",
    "simulated_price_df = pd.DataFrame()\n",
    "portfolio_cumulative_returns = pd.DataFrame()\n",
    "\n"
   ]
  },
  {
   "cell_type": "code",
   "execution_count": 95,
   "metadata": {},
   "outputs": [
    {
     "data": {
      "text/html": [
       "<div>\n",
       "<style scoped>\n",
       "    .dataframe tbody tr th:only-of-type {\n",
       "        vertical-align: middle;\n",
       "    }\n",
       "\n",
       "    .dataframe tbody tr th {\n",
       "        vertical-align: top;\n",
       "    }\n",
       "\n",
       "    .dataframe thead th {\n",
       "        text-align: right;\n",
       "    }\n",
       "</style>\n",
       "<table border=\"1\" class=\"dataframe\">\n",
       "  <thead>\n",
       "    <tr style=\"text-align: right;\">\n",
       "      <th></th>\n",
       "      <th>0</th>\n",
       "      <th>1</th>\n",
       "      <th>2</th>\n",
       "      <th>3</th>\n",
       "      <th>4</th>\n",
       "      <th>5</th>\n",
       "      <th>6</th>\n",
       "      <th>7</th>\n",
       "      <th>8</th>\n",
       "      <th>9</th>\n",
       "      <th>...</th>\n",
       "      <th>490</th>\n",
       "      <th>491</th>\n",
       "      <th>492</th>\n",
       "      <th>493</th>\n",
       "      <th>494</th>\n",
       "      <th>495</th>\n",
       "      <th>496</th>\n",
       "      <th>497</th>\n",
       "      <th>498</th>\n",
       "      <th>499</th>\n",
       "    </tr>\n",
       "  </thead>\n",
       "  <tbody>\n",
       "    <tr>\n",
       "      <th>0</th>\n",
       "      <td>1.000000</td>\n",
       "      <td>1.000000</td>\n",
       "      <td>1.000000</td>\n",
       "      <td>1.000000</td>\n",
       "      <td>1.000000</td>\n",
       "      <td>1.000000</td>\n",
       "      <td>1.000000</td>\n",
       "      <td>1.000000</td>\n",
       "      <td>1.000000</td>\n",
       "      <td>1.000000</td>\n",
       "      <td>...</td>\n",
       "      <td>1.000000</td>\n",
       "      <td>1.000000</td>\n",
       "      <td>1.000000</td>\n",
       "      <td>1.000000</td>\n",
       "      <td>1.000000</td>\n",
       "      <td>1.000000</td>\n",
       "      <td>1.000000</td>\n",
       "      <td>1.000000</td>\n",
       "      <td>1.000000</td>\n",
       "      <td>1.000000</td>\n",
       "    </tr>\n",
       "    <tr>\n",
       "      <th>1</th>\n",
       "      <td>1.001971</td>\n",
       "      <td>1.003490</td>\n",
       "      <td>1.004287</td>\n",
       "      <td>0.996753</td>\n",
       "      <td>0.999867</td>\n",
       "      <td>1.003950</td>\n",
       "      <td>0.993633</td>\n",
       "      <td>1.002131</td>\n",
       "      <td>1.001353</td>\n",
       "      <td>1.007247</td>\n",
       "      <td>...</td>\n",
       "      <td>0.995382</td>\n",
       "      <td>0.985562</td>\n",
       "      <td>0.999455</td>\n",
       "      <td>1.002805</td>\n",
       "      <td>1.006218</td>\n",
       "      <td>0.999259</td>\n",
       "      <td>0.993729</td>\n",
       "      <td>0.997674</td>\n",
       "      <td>1.001803</td>\n",
       "      <td>0.995595</td>\n",
       "    </tr>\n",
       "    <tr>\n",
       "      <th>2</th>\n",
       "      <td>0.995133</td>\n",
       "      <td>1.002778</td>\n",
       "      <td>1.003001</td>\n",
       "      <td>0.998286</td>\n",
       "      <td>1.004504</td>\n",
       "      <td>1.007101</td>\n",
       "      <td>0.997801</td>\n",
       "      <td>1.004345</td>\n",
       "      <td>1.004424</td>\n",
       "      <td>0.999059</td>\n",
       "      <td>...</td>\n",
       "      <td>0.991325</td>\n",
       "      <td>0.985061</td>\n",
       "      <td>0.999433</td>\n",
       "      <td>0.997039</td>\n",
       "      <td>1.004492</td>\n",
       "      <td>0.999864</td>\n",
       "      <td>0.991328</td>\n",
       "      <td>0.996108</td>\n",
       "      <td>0.996573</td>\n",
       "      <td>0.994494</td>\n",
       "    </tr>\n",
       "    <tr>\n",
       "      <th>3</th>\n",
       "      <td>0.995669</td>\n",
       "      <td>1.005827</td>\n",
       "      <td>0.997458</td>\n",
       "      <td>0.996165</td>\n",
       "      <td>0.998373</td>\n",
       "      <td>1.004885</td>\n",
       "      <td>1.007063</td>\n",
       "      <td>1.006444</td>\n",
       "      <td>1.007333</td>\n",
       "      <td>1.000852</td>\n",
       "      <td>...</td>\n",
       "      <td>0.988751</td>\n",
       "      <td>0.984224</td>\n",
       "      <td>1.009428</td>\n",
       "      <td>1.003490</td>\n",
       "      <td>1.006277</td>\n",
       "      <td>1.002685</td>\n",
       "      <td>0.989252</td>\n",
       "      <td>0.993555</td>\n",
       "      <td>0.996970</td>\n",
       "      <td>1.004636</td>\n",
       "    </tr>\n",
       "    <tr>\n",
       "      <th>4</th>\n",
       "      <td>0.998317</td>\n",
       "      <td>0.998814</td>\n",
       "      <td>1.001274</td>\n",
       "      <td>1.002401</td>\n",
       "      <td>0.997527</td>\n",
       "      <td>1.005811</td>\n",
       "      <td>1.000910</td>\n",
       "      <td>1.006856</td>\n",
       "      <td>1.020931</td>\n",
       "      <td>0.999158</td>\n",
       "      <td>...</td>\n",
       "      <td>0.983209</td>\n",
       "      <td>0.979566</td>\n",
       "      <td>1.011406</td>\n",
       "      <td>1.005571</td>\n",
       "      <td>1.002494</td>\n",
       "      <td>0.999651</td>\n",
       "      <td>0.986608</td>\n",
       "      <td>0.989740</td>\n",
       "      <td>0.992365</td>\n",
       "      <td>1.003461</td>\n",
       "    </tr>\n",
       "  </tbody>\n",
       "</table>\n",
       "<p>5 rows × 500 columns</p>\n",
       "</div>"
      ],
      "text/plain": [
       "        0         1         2         3         4         5         6    \\\n",
       "0  1.000000  1.000000  1.000000  1.000000  1.000000  1.000000  1.000000   \n",
       "1  1.001971  1.003490  1.004287  0.996753  0.999867  1.003950  0.993633   \n",
       "2  0.995133  1.002778  1.003001  0.998286  1.004504  1.007101  0.997801   \n",
       "3  0.995669  1.005827  0.997458  0.996165  0.998373  1.004885  1.007063   \n",
       "4  0.998317  0.998814  1.001274  1.002401  0.997527  1.005811  1.000910   \n",
       "\n",
       "        7         8         9    ...       490       491       492       493  \\\n",
       "0  1.000000  1.000000  1.000000  ...  1.000000  1.000000  1.000000  1.000000   \n",
       "1  1.002131  1.001353  1.007247  ...  0.995382  0.985562  0.999455  1.002805   \n",
       "2  1.004345  1.004424  0.999059  ...  0.991325  0.985061  0.999433  0.997039   \n",
       "3  1.006444  1.007333  1.000852  ...  0.988751  0.984224  1.009428  1.003490   \n",
       "4  1.006856  1.020931  0.999158  ...  0.983209  0.979566  1.011406  1.005571   \n",
       "\n",
       "        494       495       496       497       498       499  \n",
       "0  1.000000  1.000000  1.000000  1.000000  1.000000  1.000000  \n",
       "1  1.006218  0.999259  0.993729  0.997674  1.001803  0.995595  \n",
       "2  1.004492  0.999864  0.991328  0.996108  0.996573  0.994494  \n",
       "3  1.006277  1.002685  0.989252  0.993555  0.996970  1.004636  \n",
       "4  1.002494  0.999651  0.986608  0.989740  0.992365  1.003461  \n",
       "\n",
       "[5 rows x 500 columns]"
      ]
     },
     "execution_count": 95,
     "metadata": {},
     "output_type": "execute_result"
    }
   ],
   "source": [
    "# Run the Monte Carlo Simulation\n",
    "for x in range(number_simulations):\n",
    "    \n",
    "    simulated_agg_prices = [agg_last_price]\n",
    "    simulated_spy_prices = [spy_last_price]\n",
    "    \n",
    "    for i in range(number_records):\n",
    "        simulated_agg_price = simulated_agg_prices[-1]*(1+ np.random.normal(avg_return_agg,vol_agg))\n",
    "        simulated_spy_price = simulated_spy_prices[-1]*(1+ np.random.normal(avg_return_spy,vol_spy))\n",
    "        \n",
    "        simulated_agg_prices.append(simulated_agg_price)\n",
    "        simulated_spy_prices.append(simulated_spy_price)\n",
    "    \n",
    "    simulated_price_df[\"AGG Prices\"] = pd.Series(simulated_agg_prices)\n",
    "    simulated_price_df[\"SPY Prices\"] = pd.Series(simulated_spy_prices)\n",
    "    \n",
    "    simulated_daily_returns = simulated_price_df.pct_change()\n",
    "    \n",
    "    portfolio_daily_returns = simulated_daily_returns.dot(weights)\n",
    "    \n",
    "    portfolio_cumulative_returns[x] = (1+ portfolio_daily_returns.fillna(0)).cumprod()\n",
    "\n",
    "portfolio_cumulative_returns.head()\n",
    "    \n",
    "    \n",
    "    "
   ]
  },
  {
   "cell_type": "code",
   "execution_count": 96,
   "metadata": {},
   "outputs": [
    {
     "data": {
      "text/plain": [
       "<matplotlib.axes._subplots.AxesSubplot at 0x235bbcb7d08>"
      ]
     },
     "execution_count": 96,
     "metadata": {},
     "output_type": "execute_result"
    },
    {
     "data": {
      "image/png": "[encoded data removed]",
      "text/plain": [
       "<Figure size 720x720 with 1 Axes>"
      ]
     },
     "metadata": {
      "needs_background": "light"
     },
     "output_type": "display_data"
    }
   ],
   "source": [
    "# Visualize the Simulation\n",
    "plot_title = f\"{x+1} Simulations of Cumulative Portfolio Return Trajectories Over the Next 30 years\"\n",
    "portfolio_cumulative_returns.plot(legend=None, title=plot_title, figsize = (10,10))\n",
    "# YOUR CODE HERE"
   ]
  },
  {
   "cell_type": "code",
   "execution_count": 97,
   "metadata": {},
   "outputs": [
    {
     "data": {
      "text/html": [
       "<div>\n",
       "<style scoped>\n",
       "    .dataframe tbody tr th:only-of-type {\n",
       "        vertical-align: middle;\n",
       "    }\n",
       "\n",
       "    .dataframe tbody tr th {\n",
       "        vertical-align: top;\n",
       "    }\n",
       "\n",
       "    .dataframe thead th {\n",
       "        text-align: right;\n",
       "    }\n",
       "</style>\n",
       "<table border=\"1\" class=\"dataframe\">\n",
       "  <thead>\n",
       "    <tr style=\"text-align: right;\">\n",
       "      <th></th>\n",
       "      <th>0</th>\n",
       "      <th>1</th>\n",
       "      <th>2</th>\n",
       "      <th>3</th>\n",
       "      <th>4</th>\n",
       "      <th>5</th>\n",
       "      <th>6</th>\n",
       "      <th>7</th>\n",
       "      <th>8</th>\n",
       "      <th>9</th>\n",
       "      <th>...</th>\n",
       "      <th>490</th>\n",
       "      <th>491</th>\n",
       "      <th>492</th>\n",
       "      <th>493</th>\n",
       "      <th>494</th>\n",
       "      <th>495</th>\n",
       "      <th>496</th>\n",
       "      <th>497</th>\n",
       "      <th>498</th>\n",
       "      <th>499</th>\n",
       "    </tr>\n",
       "  </thead>\n",
       "  <tbody>\n",
       "    <tr>\n",
       "      <th>7560</th>\n",
       "      <td>237.755693</td>\n",
       "      <td>355.950921</td>\n",
       "      <td>138.03872</td>\n",
       "      <td>124.682451</td>\n",
       "      <td>379.264841</td>\n",
       "      <td>153.497841</td>\n",
       "      <td>131.315263</td>\n",
       "      <td>110.837342</td>\n",
       "      <td>293.636045</td>\n",
       "      <td>152.232884</td>\n",
       "      <td>...</td>\n",
       "      <td>270.971475</td>\n",
       "      <td>235.461468</td>\n",
       "      <td>87.653736</td>\n",
       "      <td>95.729666</td>\n",
       "      <td>171.473516</td>\n",
       "      <td>209.207999</td>\n",
       "      <td>317.861665</td>\n",
       "      <td>356.295932</td>\n",
       "      <td>215.066944</td>\n",
       "      <td>120.286476</td>\n",
       "    </tr>\n",
       "  </tbody>\n",
       "</table>\n",
       "<p>1 rows × 500 columns</p>\n",
       "</div>"
      ],
      "text/plain": [
       "             0           1          2           3           4           5    \\\n",
       "7560  237.755693  355.950921  138.03872  124.682451  379.264841  153.497841   \n",
       "\n",
       "             6           7           8           9    ...         490  \\\n",
       "7560  131.315263  110.837342  293.636045  152.232884  ...  270.971475   \n",
       "\n",
       "             491        492        493         494         495         496  \\\n",
       "7560  235.461468  87.653736  95.729666  171.473516  209.207999  317.861665   \n",
       "\n",
       "             497         498         499  \n",
       "7560  356.295932  215.066944  120.286476  \n",
       "\n",
       "[1 rows x 500 columns]"
      ]
     },
     "execution_count": 97,
     "metadata": {},
     "output_type": "execute_result"
    }
   ],
   "source": [
    "# Select the last row for the cumulative returns (cumulative returns at 30 years)\n",
    "portfolio_cumulative_returns.iloc[[-1]]\n",
    "# YOUR CODE HERE"
   ]
  },
  {
   "cell_type": "code",
   "execution_count": 112,
   "metadata": {},
   "outputs": [
    {
     "data": {
      "text/html": [
       "<div>\n",
       "<style scoped>\n",
       "    .dataframe tbody tr th:only-of-type {\n",
       "        vertical-align: middle;\n",
       "    }\n",
       "\n",
       "    .dataframe tbody tr th {\n",
       "        vertical-align: top;\n",
       "    }\n",
       "\n",
       "    .dataframe thead th {\n",
       "        text-align: right;\n",
       "    }\n",
       "</style>\n",
       "<table border=\"1\" class=\"dataframe\">\n",
       "  <thead>\n",
       "    <tr style=\"text-align: right;\">\n",
       "      <th></th>\n",
       "      <th>0</th>\n",
       "      <th>1</th>\n",
       "      <th>2</th>\n",
       "      <th>3</th>\n",
       "      <th>4</th>\n",
       "      <th>5</th>\n",
       "      <th>6</th>\n",
       "      <th>7</th>\n",
       "      <th>8</th>\n",
       "      <th>9</th>\n",
       "      <th>...</th>\n",
       "      <th>7551</th>\n",
       "      <th>7552</th>\n",
       "      <th>7553</th>\n",
       "      <th>7554</th>\n",
       "      <th>7555</th>\n",
       "      <th>7556</th>\n",
       "      <th>7557</th>\n",
       "      <th>7558</th>\n",
       "      <th>7559</th>\n",
       "      <th>7560</th>\n",
       "    </tr>\n",
       "  </thead>\n",
       "  <tbody>\n",
       "    <tr>\n",
       "      <th>0</th>\n",
       "      <td>1.0</td>\n",
       "      <td>1.001971</td>\n",
       "      <td>0.995133</td>\n",
       "      <td>0.995669</td>\n",
       "      <td>0.998317</td>\n",
       "      <td>1.002309</td>\n",
       "      <td>0.997214</td>\n",
       "      <td>1.000268</td>\n",
       "      <td>0.993665</td>\n",
       "      <td>0.986924</td>\n",
       "      <td>...</td>\n",
       "      <td>241.295757</td>\n",
       "      <td>241.001039</td>\n",
       "      <td>240.963943</td>\n",
       "      <td>239.042213</td>\n",
       "      <td>237.971761</td>\n",
       "      <td>236.117960</td>\n",
       "      <td>238.167913</td>\n",
       "      <td>240.256907</td>\n",
       "      <td>239.361820</td>\n",
       "      <td>237.755693</td>\n",
       "    </tr>\n",
       "    <tr>\n",
       "      <th>1</th>\n",
       "      <td>1.0</td>\n",
       "      <td>1.003490</td>\n",
       "      <td>1.002778</td>\n",
       "      <td>1.005827</td>\n",
       "      <td>0.998814</td>\n",
       "      <td>0.999381</td>\n",
       "      <td>1.005318</td>\n",
       "      <td>1.002239</td>\n",
       "      <td>1.011242</td>\n",
       "      <td>1.018130</td>\n",
       "      <td>...</td>\n",
       "      <td>357.353291</td>\n",
       "      <td>359.695413</td>\n",
       "      <td>359.002592</td>\n",
       "      <td>359.050483</td>\n",
       "      <td>358.167734</td>\n",
       "      <td>355.373231</td>\n",
       "      <td>355.663063</td>\n",
       "      <td>355.859289</td>\n",
       "      <td>356.114293</td>\n",
       "      <td>355.950921</td>\n",
       "    </tr>\n",
       "    <tr>\n",
       "      <th>2</th>\n",
       "      <td>1.0</td>\n",
       "      <td>1.004287</td>\n",
       "      <td>1.003001</td>\n",
       "      <td>0.997458</td>\n",
       "      <td>1.001274</td>\n",
       "      <td>0.999884</td>\n",
       "      <td>0.997735</td>\n",
       "      <td>0.991114</td>\n",
       "      <td>0.987977</td>\n",
       "      <td>0.995103</td>\n",
       "      <td>...</td>\n",
       "      <td>138.384534</td>\n",
       "      <td>138.442064</td>\n",
       "      <td>139.618257</td>\n",
       "      <td>139.579291</td>\n",
       "      <td>140.131365</td>\n",
       "      <td>140.826702</td>\n",
       "      <td>139.002248</td>\n",
       "      <td>139.333823</td>\n",
       "      <td>138.596555</td>\n",
       "      <td>138.038720</td>\n",
       "    </tr>\n",
       "    <tr>\n",
       "      <th>3</th>\n",
       "      <td>1.0</td>\n",
       "      <td>0.996753</td>\n",
       "      <td>0.998286</td>\n",
       "      <td>0.996165</td>\n",
       "      <td>1.002401</td>\n",
       "      <td>0.993541</td>\n",
       "      <td>0.995523</td>\n",
       "      <td>0.998707</td>\n",
       "      <td>0.998060</td>\n",
       "      <td>0.998145</td>\n",
       "      <td>...</td>\n",
       "      <td>120.417957</td>\n",
       "      <td>121.643527</td>\n",
       "      <td>121.163723</td>\n",
       "      <td>120.573255</td>\n",
       "      <td>121.383910</td>\n",
       "      <td>121.806357</td>\n",
       "      <td>123.284462</td>\n",
       "      <td>124.590223</td>\n",
       "      <td>124.900085</td>\n",
       "      <td>124.682451</td>\n",
       "    </tr>\n",
       "    <tr>\n",
       "      <th>4</th>\n",
       "      <td>1.0</td>\n",
       "      <td>0.999867</td>\n",
       "      <td>1.004504</td>\n",
       "      <td>0.998373</td>\n",
       "      <td>0.997527</td>\n",
       "      <td>1.006300</td>\n",
       "      <td>1.002501</td>\n",
       "      <td>1.004832</td>\n",
       "      <td>1.001510</td>\n",
       "      <td>1.000051</td>\n",
       "      <td>...</td>\n",
       "      <td>386.737502</td>\n",
       "      <td>388.019661</td>\n",
       "      <td>386.150687</td>\n",
       "      <td>386.221610</td>\n",
       "      <td>384.744302</td>\n",
       "      <td>384.276788</td>\n",
       "      <td>385.057676</td>\n",
       "      <td>382.661890</td>\n",
       "      <td>380.461224</td>\n",
       "      <td>379.264841</td>\n",
       "    </tr>\n",
       "  </tbody>\n",
       "</table>\n",
       "<p>5 rows × 7561 columns</p>\n",
       "</div>"
      ],
      "text/plain": [
       "   0         1         2         3         4         5         6         7     \\\n",
       "0   1.0  1.001971  0.995133  0.995669  0.998317  1.002309  0.997214  1.000268   \n",
       "1   1.0  1.003490  1.002778  1.005827  0.998814  0.999381  1.005318  1.002239   \n",
       "2   1.0  1.004287  1.003001  0.997458  1.001274  0.999884  0.997735  0.991114   \n",
       "3   1.0  0.996753  0.998286  0.996165  1.002401  0.993541  0.995523  0.998707   \n",
       "4   1.0  0.999867  1.004504  0.998373  0.997527  1.006300  1.002501  1.004832   \n",
       "\n",
       "       8         9     ...        7551        7552        7553        7554  \\\n",
       "0  0.993665  0.986924  ...  241.295757  241.001039  240.963943  239.042213   \n",
       "1  1.011242  1.018130  ...  357.353291  359.695413  359.002592  359.050483   \n",
       "2  0.987977  0.995103  ...  138.384534  138.442064  139.618257  139.579291   \n",
       "3  0.998060  0.998145  ...  120.417957  121.643527  121.163723  120.573255   \n",
       "4  1.001510  1.000051  ...  386.737502  388.019661  386.150687  386.221610   \n",
       "\n",
       "         7555        7556        7557        7558        7559        7560  \n",
       "0  237.971761  236.117960  238.167913  240.256907  239.361820  237.755693  \n",
       "1  358.167734  355.373231  355.663063  355.859289  356.114293  355.950921  \n",
       "2  140.131365  140.826702  139.002248  139.333823  138.596555  138.038720  \n",
       "3  121.383910  121.806357  123.284462  124.590223  124.900085  124.682451  \n",
       "4  384.744302  384.276788  385.057676  382.661890  380.461224  379.264841  \n",
       "\n",
       "[5 rows x 7561 columns]"
      ]
     },
     "execution_count": 112,
     "metadata": {},
     "output_type": "execute_result"
    }
   ],
   "source": [
    "# Select the last row for the cumulative returns (cumulative returns at 20 years)\n",
    "port_returns_transposed = portfolio_cumulative_returns.transpose()\n",
    "port_returns_transposed.head()\n",
    "# YOUR CODE HERE"
   ]
  },
  {
   "cell_type": "code",
   "execution_count": 113,
   "metadata": {},
   "outputs": [
    {
     "data": {
      "text/html": [
       "<div>\n",
       "<style scoped>\n",
       "    .dataframe tbody tr th:only-of-type {\n",
       "        vertical-align: middle;\n",
       "    }\n",
       "\n",
       "    .dataframe tbody tr th {\n",
       "        vertical-align: top;\n",
       "    }\n",
       "\n",
       "    .dataframe thead th {\n",
       "        text-align: right;\n",
       "    }\n",
       "</style>\n",
       "<table border=\"1\" class=\"dataframe\">\n",
       "  <thead>\n",
       "    <tr style=\"text-align: right;\">\n",
       "      <th></th>\n",
       "      <th>0</th>\n",
       "      <th>1</th>\n",
       "      <th>2</th>\n",
       "      <th>3</th>\n",
       "      <th>4</th>\n",
       "      <th>5</th>\n",
       "      <th>6</th>\n",
       "      <th>7</th>\n",
       "      <th>8</th>\n",
       "      <th>9</th>\n",
       "      <th>...</th>\n",
       "      <th>7551</th>\n",
       "      <th>7552</th>\n",
       "      <th>7553</th>\n",
       "      <th>7554</th>\n",
       "      <th>7555</th>\n",
       "      <th>7556</th>\n",
       "      <th>7557</th>\n",
       "      <th>7558</th>\n",
       "      <th>7559</th>\n",
       "      <th>7560</th>\n",
       "    </tr>\n",
       "  </thead>\n",
       "  <tbody>\n",
       "    <tr>\n",
       "      <th>0.05</th>\n",
       "      <td>1.0</td>\n",
       "      <td>0.993187</td>\n",
       "      <td>0.990778</td>\n",
       "      <td>0.988793</td>\n",
       "      <td>0.987404</td>\n",
       "      <td>0.985044</td>\n",
       "      <td>0.983440</td>\n",
       "      <td>0.983920</td>\n",
       "      <td>0.981696</td>\n",
       "      <td>0.980243</td>\n",
       "      <td>...</td>\n",
       "      <td>91.641916</td>\n",
       "      <td>91.474642</td>\n",
       "      <td>91.877025</td>\n",
       "      <td>92.723235</td>\n",
       "      <td>92.739801</td>\n",
       "      <td>92.709506</td>\n",
       "      <td>92.569420</td>\n",
       "      <td>93.322101</td>\n",
       "      <td>93.375439</td>\n",
       "      <td>93.301159</td>\n",
       "    </tr>\n",
       "    <tr>\n",
       "      <th>0.95</th>\n",
       "      <td>1.0</td>\n",
       "      <td>1.008419</td>\n",
       "      <td>1.011677</td>\n",
       "      <td>1.015571</td>\n",
       "      <td>1.018701</td>\n",
       "      <td>1.023656</td>\n",
       "      <td>1.025632</td>\n",
       "      <td>1.027041</td>\n",
       "      <td>1.028143</td>\n",
       "      <td>1.030935</td>\n",
       "      <td>...</td>\n",
       "      <td>371.340215</td>\n",
       "      <td>371.762412</td>\n",
       "      <td>372.322005</td>\n",
       "      <td>370.330096</td>\n",
       "      <td>374.139140</td>\n",
       "      <td>375.287273</td>\n",
       "      <td>374.553497</td>\n",
       "      <td>374.713113</td>\n",
       "      <td>376.171535</td>\n",
       "      <td>375.277637</td>\n",
       "    </tr>\n",
       "  </tbody>\n",
       "</table>\n",
       "<p>2 rows × 7561 columns</p>\n",
       "</div>"
      ],
      "text/plain": [
       "      0         1         2         3         4         5         6     \\\n",
       "0.05   1.0  0.993187  0.990778  0.988793  0.987404  0.985044  0.983440   \n",
       "0.95   1.0  1.008419  1.011677  1.015571  1.018701  1.023656  1.025632   \n",
       "\n",
       "          7         8         9     ...        7551        7552        7553  \\\n",
       "0.05  0.983920  0.981696  0.980243  ...   91.641916   91.474642   91.877025   \n",
       "0.95  1.027041  1.028143  1.030935  ...  371.340215  371.762412  372.322005   \n",
       "\n",
       "            7554        7555        7556        7557        7558        7559  \\\n",
       "0.05   92.723235   92.739801   92.709506   92.569420   93.322101   93.375439   \n",
       "0.95  370.330096  374.139140  375.287273  374.553497  374.713113  376.171535   \n",
       "\n",
       "            7560  \n",
       "0.05   93.301159  \n",
       "0.95  375.277637  \n",
       "\n",
       "[2 rows x 7561 columns]"
      ]
     },
     "execution_count": 113,
     "metadata": {},
     "output_type": "execute_result"
    }
   ],
   "source": [
    "# Display the 90% confidence interval for the ending returns\n",
    "confidence_interval = port_returns_transposed.quantile(q=[0.05, 0.95])\n",
    "confidence_interval\n",
    "# YOUR CODE HERE"
   ]
  },
  {
   "cell_type": "code",
   "execution_count": 116,
   "metadata": {},
   "outputs": [
    {
     "data": {
      "text/plain": [
       "<matplotlib.axes._subplots.AxesSubplot at 0x235f91f83c8>"
      ]
     },
     "execution_count": 116,
     "metadata": {},
     "output_type": "execute_result"
    },
    {
     "data": {
      "image/png": "[encoded data removed]",
      "text/plain": [
       "<Figure size 432x288 with 1 Axes>"
      ]
     },
     "metadata": {
      "needs_background": "light"
     },
     "output_type": "display_data"
    }
   ],
   "source": [
    "portfolio_cumulative_returns.plot(kind='hist', bins=10, legend = None)"
   ]
  },
  {
   "cell_type": "code",
   "execution_count": null,
   "metadata": {},
   "outputs": [],
   "source": [
    "# Visualize the distribution of the ending returns\n",
    "port_returns_transposed.plot.hist(legend=None)\n",
    "\n",
    "# YOUR CODE HERE"
   ]
  },
  {
   "cell_type": "markdown",
   "metadata": {},
   "source": [
    "---"
   ]
  },
  {
   "cell_type": "markdown",
   "metadata": {},
   "source": [
    "# Retirement Analysis\n",
    "\n",
    "In this section, you will use the monte carlo model to answer the following retirement planning questions:\n",
    "\n",
    "1. What are the expected cumulative returns at 30 years for the 10th, 50th, and 90th percentiles?\n",
    "2. Given an initial investment of `$20,000`, what is the expected portfolio return in dollars at the 10th, 50th, and 90th percentiles?\n",
    "3. Given the current projected annual income from the Plaid analysis, will a 4% withdraw rate from the retirement portfolio meet or exceed that value at the 10th percentile?\n",
    "4. How would a 50% increase in the initial investment amount affect the 4% retirement withdrawal?"
   ]
  },
  {
   "cell_type": "markdown",
   "metadata": {},
   "source": [
    "### What are the expected cumulative returns at 30 years for the 10th, 50th, and 90th percentiles?"
   ]
  },
  {
   "cell_type": "code",
   "execution_count": null,
   "metadata": {},
   "outputs": [],
   "source": [
    "# YOUR CODE HERE\n",
    "port_returns_transposed.quantile(q=[0.10, 0.50, 0.90])"
   ]
  },
  {
   "cell_type": "markdown",
   "metadata": {},
   "source": [
    "### Given an initial investment of `$20,000`, what is the expected portfolio return in dollars at the 10th, 50th, and 90th percentiles?"
   ]
  },
  {
   "cell_type": "code",
   "execution_count": null,
   "metadata": {},
   "outputs": [],
   "source": [
    "# YOUR CODE HERE"
   ]
  },
  {
   "cell_type": "markdown",
   "metadata": {},
   "source": [
    "### Given the current projected annual income from the Plaid analysis, will a 4% withdraw rate from the retirement portfolio meet or exceed that value at the 10th percentile?\n",
    "\n",
    "Note: This is effectively saying that 90% of the expected returns will be greater than the return at the 10th percentile, so this can help measure the uncertainty about having enough funds at retirement"
   ]
  },
  {
   "cell_type": "code",
   "execution_count": null,
   "metadata": {},
   "outputs": [],
   "source": [
    "# YOUR CODE HERE"
   ]
  },
  {
   "cell_type": "markdown",
   "metadata": {},
   "source": [
    "### How would a 50% increase in the initial investment amount affect the 4% retirement withdrawal?"
   ]
  },
  {
   "cell_type": "code",
   "execution_count": null,
   "metadata": {},
   "outputs": [],
   "source": [
    "# YOUR CODE HERE"
   ]
  },
  {
   "cell_type": "markdown",
   "metadata": {},
   "source": [
    "### Optional Challenge\n",
    "\n",
    "In this section, you will calculate and plot the cumulative returns for the median and 90% confidence intervals. This plot shows the expected cumulative returns for any given day between the first day and the last day of investment. "
   ]
  },
  {
   "cell_type": "code",
   "execution_count": null,
   "metadata": {},
   "outputs": [],
   "source": [
    "# YOUR CODE HERE"
   ]
  }
 ],
 "metadata": {
  "kernel_info": {
   "name": "dev"
  },
  "kernelspec": {
   "display_name": "Python 3",
   "language": "python",
   "name": "python3"
  },
  "language_info": {
   "codemirror_mode": {
    "name": "ipython",
    "version": 3
   },
   "file_extension": ".py",
   "mimetype": "text/x-python",
   "name": "python",
   "nbconvert_exporter": "python",
   "pygments_lexer": "ipython3",
   "version": "3.7.4"
  },
  "nteract": {
   "version": "0.12.3"
  }
 },
 "nbformat": 4,
 "nbformat_minor": 4
}
